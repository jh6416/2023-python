{
 "cells": [
  {
   "cell_type": "code",
   "execution_count": 1,
   "id": "17af79a1",
   "metadata": {},
   "outputs": [
    {
     "name": "stdout",
     "output_type": "stream",
     "text": [
      "Requirement already satisfied: pygame in c:\\users\\win10\\anaconda3\\lib\\site-packages (2.4.0)\n"
     ]
    }
   ],
   "source": [
    "!pip install pygame\n"
   ]
  },
  {
   "cell_type": "code",
   "execution_count": 2,
   "id": "934168ff",
   "metadata": {},
   "outputs": [
    {
     "name": "stdout",
     "output_type": "stream",
     "text": [
      "pygame 2.4.0 (SDL 2.26.4, Python 3.9.13)\n",
      "Hello from the pygame community. https://www.pygame.org/contribute.html\n"
     ]
    }
   ],
   "source": []
  },
  {
   "cell_type": "code",
   "execution_count": 4,
   "id": "630bd5d9",
   "metadata": {},
   "outputs": [],
   "source": [
    "import pygame # 1. pygame 선언\n",
    "import random\n",
    "\n",
    "pygame.init() # 2. pygame 초기화\n",
    "\n",
    "# 3. pygame에 사용되는 전역변수 선언\n",
    "\n",
    "WHITE = (255, 255, 255)\n",
    "size = [400, 400]\n",
    "screen = pygame.display.set_mode(size)\n",
    "\n",
    "done = False\n",
    "clock = pygame.time.Clock()\n",
    "\n",
    "# 4. pygame 무한루프\n",
    "def runGame():\n",
    "    global done\n",
    "    while not done:\n",
    "        clock.tick(10)\n",
    "        screen.fill(WHITE)\n",
    "        \n",
    "        for event in pygame.event.get():\n",
    "            if event.type == pygame.QUIT:\n",
    "                done=True\n",
    "\n",
    "        ############################\n",
    "        # 여기에 도형을 그리세요\n",
    "        ############################\n",
    "        \n",
    "        \n",
    "        pygame.display.update()\n",
    "\n",
    "runGame()\n",
    "pygame.quit()"
   ]
  },
  {
   "cell_type": "code",
   "execution_count": 5,
   "id": "373c9779",
   "metadata": {},
   "outputs": [
    {
     "ename": "FileNotFoundError",
     "evalue": "No file 'backgrounds/Background.png' found in working directory 'C:\\Users\\WIN10\\Desktop\\python\\python-main\\python-main (3)\\python-main'.",
     "output_type": "error",
     "traceback": [
      "\u001b[1;31m---------------------------------------------------------------------------\u001b[0m",
      "\u001b[1;31mFileNotFoundError\u001b[0m                         Traceback (most recent call last)",
      "Cell \u001b[1;32mIn[5], line 1\u001b[0m\n\u001b[1;32m----> 1\u001b[0m sky \u001b[38;5;241m=\u001b[39m \u001b[43mpygame\u001b[49m\u001b[38;5;241;43m.\u001b[39;49m\u001b[43mimage\u001b[49m\u001b[38;5;241;43m.\u001b[39;49m\u001b[43mload\u001b[49m\u001b[43m(\u001b[49m\u001b[38;5;124;43m\"\u001b[39;49m\u001b[38;5;124;43mbackgrounds/Background.png\u001b[39;49m\u001b[38;5;124;43m\"\u001b[39;49m\u001b[43m)\u001b[49m\n\u001b[0;32m      2\u001b[0m \u001b[38;5;66;03m# sky_rect = sky.get_reck()\u001b[39;00m\n\u001b[0;32m      3\u001b[0m \u001b[38;5;66;03m# print(sky_rect)\u001b[39;00m\n\u001b[0;32m      4\u001b[0m sky \u001b[38;5;241m=\u001b[39m pygame\u001b[38;5;241m.\u001b[39mtransform\u001b[38;5;241m.\u001b[39mscale(sky,(\u001b[38;5;241m400\u001b[39m,\u001b[38;5;241m300\u001b[39m))\n",
      "\u001b[1;31mFileNotFoundError\u001b[0m: No file 'backgrounds/Background.png' found in working directory 'C:\\Users\\WIN10\\Desktop\\python\\python-main\\python-main (3)\\python-main'."
     ]
    }
   ],
   "source": [
    "sky = pygame.image.load(\"backgrounds/Background.png\")\n",
    "# sky_rect = sky.get_reck()\n",
    "# print(sky_rect)\n",
    "sky = pygame.transform.scale(sky,(400,300))\n",
    "screen.blit(sky,(0,0))"
   ]
  },
  {
   "cell_type": "code",
   "execution_count": null,
   "id": "4af0e0cc",
   "metadata": {},
   "outputs": [],
   "source": []
  }
 ],
 "metadata": {
  "kernelspec": {
   "display_name": "Python 3 (ipykernel)",
   "language": "python",
   "name": "python3"
  },
  "language_info": {
   "codemirror_mode": {
    "name": "ipython",
    "version": 3
   },
   "file_extension": ".py",
   "mimetype": "text/x-python",
   "name": "python",
   "nbconvert_exporter": "python",
   "pygments_lexer": "ipython3",
   "version": "3.9.13"
  }
 },
 "nbformat": 4,
 "nbformat_minor": 5
}
