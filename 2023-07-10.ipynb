{
 "cells": [
  {
   "cell_type": "code",
   "execution_count": null,
   "id": "a4098627-b389-4871-8ef7-e0dd383b1ff2",
   "metadata": {},
   "outputs": [],
   "source": [
    "import csv\n",
    "f=open(\"temp2013.csv\")\n",
    "data=csv.reader(f)\n",
    "header=next(data)\n",
    "print(header)\n",
    "f.close()"
   ]
  },
  {
   "cell_type": "code",
   "execution_count": null,
   "id": "33a8261f-f9ff-485c-a581-0a1b1da63fec",
   "metadata": {},
   "outputs": [],
   "source": [
    "import csv\n",
    "f=open(\"temp2013.csv\")\n",
    "data=csv.reader(f)\n",
    "header1=next(data)\n",
    "header2=next(data)\n",
    "print(header1)\n",
    "print(header2)\n",
    "f.close()"
   ]
  },
  {
   "cell_type": "code",
   "execution_count": null,
   "id": "1cdedfcc-29c5-4bc7-8ef3-7b4f5a6da4ca",
   "metadata": {},
   "outputs": [],
   "source": [
    "import csv\n",
    "f=open(\"temp2013.csv\")\n",
    "data=csv.reader(f)\n",
    "header=next(data)\n",
    "\n",
    "for row in data:\n",
    "    print(row)\n",
    "\n",
    "f.close()"
   ]
  },
  {
   "cell_type": "code",
   "execution_count": null,
   "id": "b52cfee3-1af3-4fb0-863f-0acb48e5deef",
   "metadata": {},
   "outputs": [],
   "source": [
    "import csv\n",
    "f=open(\"temp2013.csv\")\n",
    "data=csv.reader(f)\n",
    "header=next(data)\n",
    "\n",
    "for row in data:\n",
    "    row[-2]=float(row[-2])\n",
    "    print(row)\n",
    "f.close()"
   ]
  },
  {
   "cell_type": "code",
   "execution_count": null,
   "id": "d684a9d3-8708-4132-a19a-ce2c0fd67508",
   "metadata": {},
   "outputs": [],
   "source": [
    "import matplotlib.pyplot as plt\n",
    "plt.title(\"legend\")\n",
    "\n",
    "plt.plot([10,20,30,40], label=\"asc\")\n",
    "plt.plot([40,30,20,10], label=\"desc\")\n",
    "\n",
    "plt.legend(loc=\"center left\")\n",
    "plt.show()"
   ]
  },
  {
   "cell_type": "code",
   "execution_count": null,
   "id": "ac0bc686-ce27-473a-84e9-91da62e097e0",
   "metadata": {},
   "outputs": [],
   "source": [
    "import matplotlib.pyplot as plt\n",
    "plt.title(\"legend\")\n",
    "\n",
    "plt.plot([10,20,30,40], label=\"asc\")\n",
    "plt.plot([40,30,20,10], label=\"desc\")\n",
    "plt.legend()\n",
    "\n",
    "plt.grid(color=\"violet\", dashes=(4,6))\n",
    "plt.show()"
   ]
  },
  {
   "cell_type": "code",
   "execution_count": null,
   "id": "2eb48cfa-8fbe-447e-beaf-0d30e2b7135a",
   "metadata": {},
   "outputs": [],
   "source": [
    "import matplotlib.pyplot as plt\n",
    "plt.title(\"legend\")\n",
    "\n",
    "plt.plot([10,20,30,40],\"o\", label=\"circle\")\n",
    "plt.plot([40,30,20,10],\"*\", label=\"triangle\")\n",
    "plt.legend()\n",
    "\n",
    "plt.grid(color=\"violet\", dashes=(4,6))\n",
    "plt.show()"
   ]
  },
  {
   "cell_type": "code",
   "execution_count": null,
   "id": "ec3bbb98-2064-497f-8da8-6d501417e46f",
   "metadata": {},
   "outputs": [],
   "source": [
    "import csv\n",
    "f = open(\"temp2013.csv\")\n",
    "data = csv.reader(f)\n",
    "next(data)\n",
    "result = []\n",
    "\n",
    "for row in data:\n",
    "    if row[5] != \"\":\n",
    "        result.append(float(row[5]))\n",
    "\n",
    "plt.plot(result)\n",
    "plt.show()\n",
    "f.close()"
   ]
  },
  {
   "cell_type": "code",
   "execution_count": null,
   "id": "aca97d83-f84e-482b-b7a5-29ccf9e697ba",
   "metadata": {},
   "outputs": [],
   "source": [
    "s = \"hello python\"\n",
    "print(s.split())"
   ]
  },
  {
   "cell_type": "code",
   "execution_count": null,
   "id": "edcafa48-20a2-4403-89af-9ce99d638786",
   "metadata": {},
   "outputs": [],
   "source": [
    "date = \"1907-01-01\"\n",
    "date.split(\"-\")"
   ]
  },
  {
   "cell_type": "code",
   "execution_count": null,
   "id": "b2aa8d6e-0f62-4f72-9491-bcf25babc059",
   "metadata": {},
   "outputs": [],
   "source": [
    "date = \"1907-01-01\"\n",
    "date.split(\"-\")[0]"
   ]
  },
  {
   "cell_type": "code",
   "execution_count": null,
   "id": "25b8f6eb-bf0e-4839-a902-975feb43082d",
   "metadata": {},
   "outputs": [],
   "source": [
    "import csv\n",
    "import matplotlib.pyplot as plt\n",
    "\n",
    "f=open(\"temp2013.csv\")\n",
    "data=csv.reader(f)\n",
    "header=next(data)\n",
    "result = []\n",
    "\n",
    "for row in data:\n",
    "    if row[5] != \"\":\n",
    "        if row[6].split(\"-\")[1]==\"08\":\n",
    "            result.append(float(row[5]))\n",
    "\n",
    "plt.plot(result)\n",
    "plt.show()\n",
    "f.close()"
   ]
  },
  {
   "cell_type": "code",
   "execution_count": null,
   "id": "b5dfb9e3-793c-4788-a6d0-4212436a95df",
   "metadata": {},
   "outputs": [],
   "source": [
    "import csv\n",
    "import matplotlib.pyplot as plt\n",
    "\n",
    "f=open(\"temp2013.csv\")\n",
    "data=csv.reader(f)\n",
    "header=next(data)\n",
    "result = []\n",
    "\n",
    "for row in data:\n",
    "    if row[5] != \"\":\n",
    "        if row[6].split(\"-\")[1]==\"04\" and row[6].split(\"-\")[2]==\"05\":\n",
    "            result.append(float(row[5]))\n",
    "\n",
    "plt.plot(result)\n",
    "plt.show()\n",
    "f.close()"
   ]
  },
  {
   "cell_type": "code",
   "execution_count": null,
   "id": "c118cdb7-23c0-46db-813f-a0b2e4cf6928",
   "metadata": {},
   "outputs": [],
   "source": [
    "f = open(\"temp1904.csv\")\n",
    "data = csv.reader(f)\n",
    "next(data)\n",
    "result = []\n",
    "\n",
    "for row in data:\n",
    "    if row[4] != \"\":\n",
    "        if row[0].split(\"-\")[1] == \"04\" and row[0].split(\"-\")[2] == \"05\":\n",
    "            result.append(float(row[-1]))\n",
    "\n",
    "plt.plot(result)\n",
    "plt.show()\n",
    "f.close()"
   ]
  },
  {
   "cell_type": "code",
   "execution_count": null,
   "id": "00ff21c1-1090-471c-9cc8-593d7519ce40",
   "metadata": {},
   "outputs": [],
   "source": [
    "f = open(\"temp1904.csv\")\n",
    "data = csv.reader(f)\n",
    "next(data)\n",
    "result = []\n",
    "\n",
    "for row in data:\n",
    "    if row[-1] != \"\":\n",
    "        if row[0].split(\"-\")[1] == \"08\":\n",
    "            result.append(float(row[-1]))\n",
    "\n",
    "plt.plot(result)\n",
    "plt.show()\n",
    "f.close()"
   ]
  },
  {
   "cell_type": "code",
   "execution_count": null,
   "id": "d9b7ff21-482f-4ec9-97d3-c0d03862ea71",
   "metadata": {},
   "outputs": [],
   "source": [
    "f = open(\"temp1904.csv\")\n",
    "data = csv.reader(f)\n",
    "next(data)\n",
    "high = []\n",
    "low = []\n",
    "\n",
    "for row in data:\n",
    "    if row[-1] != \"\" and row[-2] != \"\":\n",
    "        if 1904 <= int(row[0].split(\"-\")[0]):\n",
    "            if row[0].split(\"-\")[1] == \"04\" and row[0].split(\"-\")[2] == \"05\":\n",
    "                high.append(float(row[-1]))\n",
    "                low.append(float(row[-2]))\n",
    "plt.rc(\"font\", family = \"Malgun Gothic\")\n",
    "plt.rcParams[\"axes.unicode_minus\"]=False\n",
    "plt.title(\"내 생일의 기온 변화 그래프\")\n",
    "plt.plot(high, label=\"high\")\n",
    "plt.plot(low, label = \"low\")\n",
    "plt.legend(loc=\"upper left\")\n",
    "plt.show()\n"
   ]
  },
  {
   "cell_type": "code",
   "execution_count": null,
   "id": "42d8c46b-ed4a-41fb-be5a-eb043462fa8b",
   "metadata": {},
   "outputs": [],
   "source": [
    "plt.rc(\"font\", family = \"Malgun Gothic\")\n",
    "plt.title(\"내 생일의 기온 변화 그래프\")"
   ]
  },
  {
   "cell_type": "code",
   "execution_count": null,
   "id": "659656b6-7ade-484f-840d-80483a83232b",
   "metadata": {},
   "outputs": [],
   "source": [
    "plt.rcParams[\"axes.unicode_minus\"]=False"
   ]
  },
  {
   "cell_type": "code",
   "execution_count": null,
   "id": "483068e5-3ec9-41d2-807d-284144debc9e",
   "metadata": {},
   "outputs": [],
   "source": [
    "import csv\n",
    "f = open(\"subway202306.csv\")\n",
    "data = csv.reader(f)\n",
    "\n",
    "for i in range(2):\n",
    "    next(data)\n",
    "\n",
    "# print(header1)\n",
    "# print(header2)\n",
    "for row in data:\n",
    "    print(row)"
   ]
  },
  {
   "cell_type": "code",
   "execution_count": null,
   "id": "9cd3b16d-7330-40f7-8190-35dad4751e68",
   "metadata": {},
   "outputs": [],
   "source": []
  }
 ],
 "metadata": {
  "kernelspec": {
   "display_name": "Python 3 (ipykernel)",
   "language": "python",
   "name": "python3"
  },
  "language_info": {
   "codemirror_mode": {
    "name": "ipython",
    "version": 3
   },
   "file_extension": ".py",
   "mimetype": "text/x-python",
   "name": "python",
   "nbconvert_exporter": "python",
   "pygments_lexer": "ipython3",
   "version": "3.9.7"
  }
 },
 "nbformat": 4,
 "nbformat_minor": 5
}
