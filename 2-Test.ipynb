{
 "cells": [
  {
   "cell_type": "markdown",
   "id": "fb1208ba",
   "metadata": {},
   "source": [
    "1. Numpy 를 사용할 수 있는 명령어를 적으세요"
   ]
  },
  {
   "cell_type": "code",
   "execution_count": 1,
   "id": "950dfa91",
   "metadata": {},
   "outputs": [],
   "source": [
    "import numpy as np"
   ]
  },
  {
   "cell_type": "markdown",
   "id": "39240fcc",
   "metadata": {},
   "source": [
    "2. 아래 내용이 나오도록 나오도록 코딩하세요"
   ]
  },
  {
   "cell_type": "code",
   "execution_count": 2,
   "id": "c9fcfbd6",
   "metadata": {},
   "outputs": [
    {
     "data": {
      "text/plain": [
       "array([0., 0., 0., 0., 0., 0., 0., 0., 0., 0.])"
      ]
     },
     "execution_count": 2,
     "metadata": {},
     "output_type": "execute_result"
    }
   ],
   "source": [
    "np.zeros(10)"
   ]
  },
  {
   "cell_type": "markdown",
   "id": "217e3e33",
   "metadata": {},
   "source": [
    "3. 아래 내용이 나오도록 코딩하세요"
   ]
  },
  {
   "cell_type": "code",
   "execution_count": 2,
   "id": "1881026c",
   "metadata": {},
   "outputs": [
    {
     "data": {
      "text/plain": [
       "array([1., 1., 1., 1., 1., 1., 1., 1., 1., 1.])"
      ]
     },
     "execution_count": 2,
     "metadata": {},
     "output_type": "execute_result"
    }
   ],
   "source": [
    "np.ones((10))"
   ]
  },
  {
   "cell_type": "markdown",
   "id": "7aac21fd",
   "metadata": {},
   "source": [
    "4. 아래 내용이 나오도록 코딩하세요"
   ]
  },
  {
   "cell_type": "code",
   "execution_count": 15,
   "id": "f4e15a81",
   "metadata": {},
   "outputs": [
    {
     "data": {
      "text/plain": [
       "array([5., 5., 5., 5., 5., 5., 5., 5., 5., 5.])"
      ]
     },
     "execution_count": 15,
     "metadata": {},
     "output_type": "execute_result"
    }
   ],
   "source": [
    "np.ones(10) * 5\n",
    "# 변수명 [:] = 5"
   ]
  },
  {
   "cell_type": "markdown",
   "id": "7c3beb45",
   "metadata": {},
   "source": [
    "5. 아래 내용이 나오도록 코딩하세요"
   ]
  },
  {
   "cell_type": "code",
   "execution_count": 6,
   "id": "db89981d",
   "metadata": {},
   "outputs": [
    {
     "data": {
      "text/plain": [
       "array([0, 1, 2, 3, 4, 5, 6, 7, 8, 9])"
      ]
     },
     "execution_count": 6,
     "metadata": {},
     "output_type": "execute_result"
    }
   ],
   "source": [
    "np.arange(10)"
   ]
  },
  {
   "cell_type": "code",
   "execution_count": 7,
   "id": "8e547189",
   "metadata": {},
   "outputs": [
    {
     "data": {
      "text/plain": [
       "array([10, 11, 12, 13, 14, 15, 16, 17, 18, 19, 20, 21, 22, 23, 24, 25, 26,\n",
       "       27, 28, 29, 30, 31, 32, 33, 34, 35, 36, 37, 38, 39, 40, 41, 42, 43,\n",
       "       44, 45, 46, 47, 48, 49, 50])"
      ]
     },
     "execution_count": 7,
     "metadata": {},
     "output_type": "execute_result"
    }
   ],
   "source": [
    "np.arange(10,51)"
   ]
  },
  {
   "cell_type": "markdown",
   "id": "ff029efe",
   "metadata": {},
   "source": [
    "6. 아래 내용이 나오도록 코딩하세요"
   ]
  },
  {
   "cell_type": "code",
   "execution_count": 8,
   "id": "ddd870fb",
   "metadata": {},
   "outputs": [
    {
     "data": {
      "text/plain": [
       "array([10, 12, 14, 16, 18, 20, 22, 24, 26, 28, 30, 32, 34, 36, 38, 40, 42,\n",
       "       44, 46, 48, 50])"
      ]
     },
     "execution_count": 8,
     "metadata": {},
     "output_type": "execute_result"
    }
   ],
   "source": [
    "np.arange(10,51,2)"
   ]
  },
  {
   "cell_type": "markdown",
   "id": "3b2a2892",
   "metadata": {},
   "source": [
    "7. 아래 내용이 나오도록 코딩하세요"
   ]
  },
  {
   "cell_type": "code",
   "execution_count": 26,
   "id": "1c78e4be",
   "metadata": {},
   "outputs": [
    {
     "data": {
      "text/plain": [
       "array([[0, 1, 2],\n",
       "       [3, 4, 5],\n",
       "       [6, 7, 8]])"
      ]
     },
     "execution_count": 26,
     "metadata": {},
     "output_type": "execute_result"
    }
   ],
   "source": [
    "my_matrix = [[0,1,2],[3,4,5],[6,7,8]]\n",
    "np.array(my_matrix)"
   ]
  },
  {
   "cell_type": "markdown",
   "id": "9ea906e4",
   "metadata": {},
   "source": [
    "8. 아래 내용이 나오도록 코딩하세요."
   ]
  },
  {
   "cell_type": "code",
   "execution_count": 27,
   "id": "b9aa9a23",
   "metadata": {},
   "outputs": [
    {
     "data": {
      "text/plain": [
       "array([[1., 0., 0.],\n",
       "       [0., 1., 0.],\n",
       "       [0., 0., 1.]])"
      ]
     },
     "execution_count": 27,
     "metadata": {},
     "output_type": "execute_result"
    }
   ],
   "source": [
    "np.eye(3,3)"
   ]
  },
  {
   "cell_type": "markdown",
   "id": "a8bbb4b3",
   "metadata": {},
   "source": [
    "9. 0에서 1까지의 숫자 중 랜덤 유리수가 발생되도록 코딩하세요."
   ]
  },
  {
   "cell_type": "code",
   "execution_count": 17,
   "id": "d50f315c",
   "metadata": {},
   "outputs": [
    {
     "data": {
      "text/plain": [
       "array([0.09479048])"
      ]
     },
     "execution_count": 17,
     "metadata": {},
     "output_type": "execute_result"
    }
   ],
   "source": [
    "np.random.rand(1)"
   ]
  },
  {
   "cell_type": "markdown",
   "id": "b33a42c0",
   "metadata": {},
   "source": [
    "10. 표준정규분포의 의미를 쓰고, 25개의 유리수로 표현될 수 있도록 코딩하세요"
   ]
  },
  {
   "cell_type": "code",
   "execution_count": 16,
   "id": "419db4c1",
   "metadata": {},
   "outputs": [
    {
     "data": {
      "text/plain": [
       "array([ 0.91693956,  1.40876361,  0.87723621,  2.43506211, -1.47023297,\n",
       "       -1.12791955,  0.68300443, -0.06974052,  0.03420906, -0.40513804,\n",
       "       -0.05192048,  0.14667959, -0.62382069,  0.36493355, -0.4423387 ,\n",
       "        1.41669535, -0.01536154,  1.07547823,  2.10746013,  0.15359574,\n",
       "       -1.6107495 ,  0.21034039,  1.25660485, -1.74432125, -0.76987073])"
      ]
     },
     "execution_count": 16,
     "metadata": {},
     "output_type": "execute_result"
    }
   ],
   "source": [
    "np.random.randn(25)"
   ]
  },
  {
   "cell_type": "markdown",
   "id": "359dad71",
   "metadata": {},
   "source": [
    "11. 아래와 같은 내용이 나오도록 코딩하세요."
   ]
  },
  {
   "cell_type": "code",
   "execution_count": 110,
   "id": "e2e2a780",
   "metadata": {},
   "outputs": [
    {
     "data": {
      "text/plain": [
       "array([0.01, 0.02, 0.03, 0.04, 0.05, 0.06, 0.07, 0.08, 0.09, 0.1 , 0.11,\n",
       "       0.12, 0.13, 0.14, 0.15, 0.16, 0.17, 0.18, 0.19, 0.2 , 0.21, 0.22,\n",
       "       0.23, 0.24, 0.25, 0.26, 0.27, 0.28, 0.29, 0.3 , 0.31, 0.32, 0.33,\n",
       "       0.34, 0.35, 0.36, 0.37, 0.38, 0.39, 0.4 , 0.41, 0.42, 0.43, 0.44,\n",
       "       0.45, 0.46, 0.47, 0.48, 0.49, 0.5 , 0.51, 0.52, 0.53, 0.54, 0.55,\n",
       "       0.56, 0.57, 0.58, 0.59, 0.6 , 0.61, 0.62, 0.63, 0.64, 0.65, 0.66,\n",
       "       0.67, 0.68, 0.69, 0.7 , 0.71, 0.72, 0.73, 0.74, 0.75, 0.76, 0.77,\n",
       "       0.78, 0.79, 0.8 , 0.81, 0.82, 0.83, 0.84, 0.85, 0.86, 0.87, 0.88,\n",
       "       0.89, 0.9 , 0.91, 0.92, 0.93, 0.94, 0.95, 0.96, 0.97, 0.98, 0.99,\n",
       "       1.  ])"
      ]
     },
     "execution_count": 110,
     "metadata": {},
     "output_type": "execute_result"
    }
   ],
   "source": [
    "a=np.arange(0.01,1.01,0.01)\n",
    "a"
   ]
  },
  {
   "cell_type": "markdown",
   "id": "39181cf1",
   "metadata": {},
   "source": [
    "12. 아래와 같은 내용이 나오도록 코딩하세요"
   ]
  },
  {
   "cell_type": "code",
   "execution_count": 13,
   "id": "31c54917",
   "metadata": {},
   "outputs": [
    {
     "data": {
      "text/plain": [
       "array([0.        , 0.05263158, 0.10526316, 0.15789474, 0.21052632,\n",
       "       0.26315789, 0.31578947, 0.36842105, 0.42105263, 0.47368421,\n",
       "       0.52631579, 0.57894737, 0.63157895, 0.68421053, 0.73684211,\n",
       "       0.78947368, 0.84210526, 0.89473684, 0.94736842, 1.        ])"
      ]
     },
     "execution_count": 13,
     "metadata": {},
     "output_type": "execute_result"
    }
   ],
   "source": [
    "np.linspace(0,1,20)"
   ]
  },
  {
   "cell_type": "markdown",
   "id": "152e3bc1",
   "metadata": {},
   "source": [
    "13. 아래와 같은 내용이 나오도록 코딩하세요"
   ]
  },
  {
   "cell_type": "code",
   "execution_count": 10,
   "id": "1863ac85",
   "metadata": {},
   "outputs": [
    {
     "data": {
      "text/plain": [
       "array([[ 1,  2,  3,  4,  5],\n",
       "       [ 6,  7,  8,  9, 10],\n",
       "       [11, 12, 13, 14, 15],\n",
       "       [16, 17, 18, 19, 20],\n",
       "       [21, 22, 23, 24, 25]])"
      ]
     },
     "execution_count": 10,
     "metadata": {},
     "output_type": "execute_result"
    }
   ],
   "source": [
    "mat = np.array([[1,2,3,4,5],[6,7,8,9,10],[11,12,13,14,15],[16,17,18,19,20],[21,22,23,24,25]])\n",
    "mat"
   ]
  },
  {
   "cell_type": "markdown",
   "id": "6ea07b88",
   "metadata": {},
   "source": [
    "14. 위 mat이라는 변수를 사용하여 아래 내용이 나오도록 코딩하세요."
   ]
  },
  {
   "cell_type": "code",
   "execution_count": 75,
   "id": "b8a3f147",
   "metadata": {},
   "outputs": [
    {
     "data": {
      "text/plain": [
       "array([[12, 13, 14, 15],\n",
       "       [17, 18, 19, 20],\n",
       "       [22, 23, 24, 25]])"
      ]
     },
     "execution_count": 75,
     "metadata": {},
     "output_type": "execute_result"
    }
   ],
   "source": [
    "np.array(mat)[2:5,1:]"
   ]
  },
  {
   "cell_type": "markdown",
   "id": "a727f3c7",
   "metadata": {},
   "source": [
    "15. 위 mat이라는 변수를 사용하여 아래 내용이 나오도록 코딩하세요"
   ]
  },
  {
   "cell_type": "code",
   "execution_count": 73,
   "id": "a2abe366",
   "metadata": {},
   "outputs": [
    {
     "data": {
      "text/plain": [
       "20"
      ]
     },
     "execution_count": 73,
     "metadata": {},
     "output_type": "execute_result"
    }
   ],
   "source": [
    "mat[3,4]"
   ]
  },
  {
   "cell_type": "markdown",
   "id": "bf6bfa16",
   "metadata": {},
   "source": [
    "16.위 mat이라는 변수를 사용하여 아래 내용이 나오도록 코딩하세요."
   ]
  },
  {
   "cell_type": "code",
   "execution_count": 78,
   "id": "41a77b00",
   "metadata": {},
   "outputs": [
    {
     "data": {
      "text/plain": [
       "array([[ 2],\n",
       "       [ 7],\n",
       "       [12]])"
      ]
     },
     "execution_count": 78,
     "metadata": {},
     "output_type": "execute_result"
    }
   ],
   "source": [
    "mat[0:,:2][:3,1:]"
   ]
  },
  {
   "cell_type": "markdown",
   "id": "5cce01bb",
   "metadata": {},
   "source": [
    "17. 위 mat이라는 변수를 사용하여 아래 내용이 나오도록 코딩하세요"
   ]
  },
  {
   "cell_type": "code",
   "execution_count": 80,
   "id": "05a4f7d9",
   "metadata": {},
   "outputs": [
    {
     "data": {
      "text/plain": [
       "array([21, 22, 23, 24, 25])"
      ]
     },
     "execution_count": 80,
     "metadata": {},
     "output_type": "execute_result"
    }
   ],
   "source": [
    "mat[4]"
   ]
  },
  {
   "cell_type": "markdown",
   "id": "c3ce94e9",
   "metadata": {},
   "source": [
    "18. 위 mat이라는 변수를 사용하여 아래 내용이 나오도록 코딩하세요"
   ]
  },
  {
   "cell_type": "code",
   "execution_count": 82,
   "id": "518c5587",
   "metadata": {},
   "outputs": [
    {
     "data": {
      "text/plain": [
       "array([[16, 17, 18, 19, 20],\n",
       "       [21, 22, 23, 24, 25]])"
      ]
     },
     "execution_count": 82,
     "metadata": {},
     "output_type": "execute_result"
    }
   ],
   "source": [
    "mat[3:5]"
   ]
  },
  {
   "cell_type": "markdown",
   "id": "e11fdf85",
   "metadata": {},
   "source": [
    "19. 위 mat이라는 변수를 사용하여 아래 내용이 나오도록 코딩하세요."
   ]
  },
  {
   "cell_type": "code",
   "execution_count": 11,
   "id": "8166d1c1",
   "metadata": {},
   "outputs": [
    {
     "ename": "AttributeError",
     "evalue": "'numpy.ndarray' object has no attribute 'plus'",
     "output_type": "error",
     "traceback": [
      "\u001b[1;31m---------------------------------------------------------------------------\u001b[0m",
      "\u001b[1;31mAttributeError\u001b[0m                            Traceback (most recent call last)",
      "\u001b[1;32m~\\AppData\\Local\\Temp\\ipykernel_7412\\41983868.py\u001b[0m in \u001b[0;36m<module>\u001b[1;34m\u001b[0m\n\u001b[1;32m----> 1\u001b[1;33m \u001b[0mmat\u001b[0m\u001b[1;33m.\u001b[0m\u001b[0mplus\u001b[0m\u001b[1;33m\u001b[0m\u001b[1;33m\u001b[0m\u001b[0m\n\u001b[0m",
      "\u001b[1;31mAttributeError\u001b[0m: 'numpy.ndarray' object has no attribute 'plus'"
     ]
    }
   ],
   "source": [
    "mat"
   ]
  },
  {
   "cell_type": "code",
   "execution_count": null,
   "id": "df7e8e0d",
   "metadata": {},
   "outputs": [],
   "source": []
  }
 ],
 "metadata": {
  "kernelspec": {
   "display_name": "Python 3 (ipykernel)",
   "language": "python",
   "name": "python3"
  },
  "language_info": {
   "codemirror_mode": {
    "name": "ipython",
    "version": 3
   },
   "file_extension": ".py",
   "mimetype": "text/x-python",
   "name": "python",
   "nbconvert_exporter": "python",
   "pygments_lexer": "ipython3",
   "version": "3.9.13"
  }
 },
 "nbformat": 4,
 "nbformat_minor": 5
}
