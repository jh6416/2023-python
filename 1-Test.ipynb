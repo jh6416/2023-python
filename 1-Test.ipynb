{
 "cells": [
  {
   "cell_type": "markdown",
   "id": "57f15cac",
   "metadata": {},
   "source": [
    "1번\n",
    "\n",
    "s = 'Hi there Sam!'을 입력하고 ['Hi', 'there', 'dad!]가 나오도록 코딩하세요."
   ]
  },
  {
   "cell_type": "code",
   "execution_count": 108,
   "id": "4f6b721d",
   "metadata": {},
   "outputs": [
    {
     "data": {
      "text/plain": [
       "['Hi', 'there', 'dad!']"
      ]
     },
     "execution_count": 108,
     "metadata": {},
     "output_type": "execute_result"
    }
   ],
   "source": [
    "s = 'Hi there Sam!'\n",
    "\n",
    "a = s.split(\" \")\n",
    "\n",
    "a[2]='dad!'\n",
    "a\n",
    "# s라는 변수에 'Hi there Sam!'을 주고, a라는 변수에 s.split(\" \"\")을 저장하고\n",
    "# a[2] = 'dad!'로 전환하고 출력"
   ]
  },
  {
   "cell_type": "markdown",
   "id": "bb783858",
   "metadata": {},
   "source": [
    "2번\n",
    "\n",
    "아래 내용을 입력하고, The diameter of Earth is 12742 kilometers.가 출력되도록 하세요.\n",
    "\n",
    "planet = \"Earth\" diameter = 12742"
   ]
  },
  {
   "cell_type": "code",
   "execution_count": 111,
   "id": "c0a938d8",
   "metadata": {},
   "outputs": [
    {
     "name": "stdout",
     "output_type": "stream",
     "text": [
      "The diameter of Earth is 12742 kilometers\n"
     ]
    }
   ],
   "source": [
    "planet = \"Earth\"\n",
    "diameter = 12742\n",
    "print(\"The diameter of {one} is {two} kilometers\".format(one = planet, two =diameter))\n",
    "# format에 변수를 줌"
   ]
  },
  {
   "cell_type": "code",
   "execution_count": 112,
   "id": "dad55b38",
   "metadata": {},
   "outputs": [
    {
     "name": "stdout",
     "output_type": "stream",
     "text": [
      "The diameter of Earth is 12742 kilometers\n"
     ]
    }
   ],
   "source": [
    "planet = \"Earth\"\n",
    "diameter = 12742\n",
    "print(\"The diameter of {} is {} kilometers\".format(planet,diameter))\n",
    "# format에 변수를 안 줌"
   ]
  },
  {
   "cell_type": "markdown",
   "id": "cdbca710",
   "metadata": {},
   "source": [
    "3번\n",
    "\n",
    "아래 내용을 입력하고, 'hello'가 출력되도록 하세요.\n",
    "\n",
    "lst = [1,2,[3,4],[5,[100,200,['hello']],23,11],1,7]"
   ]
  },
  {
   "cell_type": "code",
   "execution_count": 107,
   "id": "03f6fa63",
   "metadata": {},
   "outputs": [
    {
     "data": {
      "text/plain": [
       "'hello'"
      ]
     },
     "execution_count": 107,
     "metadata": {},
     "output_type": "execute_result"
    }
   ],
   "source": [
    "lst = [1,2,[3,4],[5,[100,200,['hello']],23,11],1,7]\n",
    "lst[3][1][2][0]\n",
    "# [1] = 0  대괄호안에 대괄호는 인덱스 1로 표기\n",
    "# [2] = 1\n",
    "# [3,4] =2\n",
    "# [5~11]=3\n",
    "# [1] =4\n",
    "# [7] = 5"
   ]
  },
  {
   "cell_type": "markdown",
   "id": "42ddafe3",
   "metadata": {},
   "source": [
    "4번\n",
    "\n",
    "아래를 입력하고 'hello'가 출력되도록 하세요.\n",
    "\n",
    "d = {'k1':[1,2,3,{\"tricky\":['oh','man','inception',{'target':[1,2,3,'hello']}]}]}"
   ]
  },
  {
   "cell_type": "code",
   "execution_count": 115,
   "id": "8cd1fe79",
   "metadata": {},
   "outputs": [
    {
     "data": {
      "text/plain": [
       "'hello'"
      ]
     },
     "execution_count": 115,
     "metadata": {},
     "output_type": "execute_result"
    }
   ],
   "source": [
    "d = {'k1':[1,2,3,{\"tricky\":['oh','man','inception',{'target':[1,2,3,'hello']}]}]}\n",
    "\n",
    "d['k1'][3]['tricky'][3]['target'][3]\n",
    "# dictionary와 list가 섞여있어 {}는 딕셔너리로 []는 리스트로 값을 준다.\n",
    "# {'k1'은 [1,2,3,{\"tricky\":['oh','man','inception',{'target':[1,2,3,'hello']}의 딕셔너리 키다\n",
    "# [1,2,3{~}]는 리스트값이다 인덱스 값으로 출력가능\n",
    "# 나머지는 똑같음\n",
    "\n",
    "#index 3은 {'tricky':['oh','man','inception',{'target':[1,2,3,'hello']}]}\n",
    "#D['k1'][3]['tricky'] : ['oh','man','inception',{'target':[1,2,3,'hello']}]\n",
    "#D['k1'][3]['tricky'][3] : {'target':[1,2,3,'hello']}\n",
    "#D['k1'][3]['tricky'][3]['target'] : [1,2,3,'hello']\n",
    "#d['k1'][3]['tricky'][3]['target'][3]\n"
   ]
  },
  {
   "cell_type": "markdown",
   "id": "c3c23d2f",
   "metadata": {},
   "source": [
    "5번\n",
    "\n",
    "domainGet이라는 함수를 만들어서 아래와 같이 되도록 하세요.\n"
   ]
  },
  {
   "cell_type": "code",
   "execution_count": 116,
   "id": "71c39d27",
   "metadata": {},
   "outputs": [
    {
     "data": {
      "text/plain": [
       "'domain.com'"
      ]
     },
     "execution_count": 116,
     "metadata": {},
     "output_type": "execute_result"
    }
   ],
   "source": [
    "# domainGet = {'user@domain.com' : 'domain.com'}\n",
    "# domainGet['user@domain.com']\n",
    "\n",
    "domainGet = \"user@domain.com\"\n",
    "\n",
    "domainGet.split(\"@\")[-1]\n"
   ]
  },
  {
   "cell_type": "markdown",
   "id": "b48a8b41",
   "metadata": {},
   "source": [
    "6번 \n",
    "\n",
    "findDog라는 함수를 만드세요. 이 함수는 파라미터에 ‘dog’라는 단어가 있을 경우 True를 반환하도록 하고, 없으면 False를 출력하는 것입니다. 아래와 같이 출력되도록 하세요. \n"
   ]
  },
  {
   "cell_type": "code",
   "execution_count": 1,
   "id": "380b3349",
   "metadata": {},
   "outputs": [
    {
     "name": "stdout",
     "output_type": "stream",
     "text": [
      "true\n",
      "True\n"
     ]
    }
   ],
   "source": [
    "def findDog(var):\n",
    "    if 'dog' in var:\n",
    "        print(\"true\")\n",
    "    else :\n",
    "        print(\"false\")\n",
    "findDog(\"is there a dog here?\")\n",
    "\n",
    "def findingDog(var):\n",
    "\n",
    "    if 'dog' in var:\n",
    "        print('True')\n",
    "    else:\n",
    "        print('False')\n",
    "        \n",
    "findingDog('Is there a dog here?')"
   ]
  },
  {
   "cell_type": "code",
   "execution_count": 16,
   "id": "9dec084f",
   "metadata": {},
   "outputs": [],
   "source": [
    "def findCat(st):\n",
    "    return 'cat' in st.lower().split()"
   ]
  },
  {
   "cell_type": "code",
   "execution_count": 20,
   "id": "70b40127",
   "metadata": {},
   "outputs": [
    {
     "data": {
      "text/plain": [
       "False"
      ]
     },
     "execution_count": 20,
     "metadata": {},
     "output_type": "execute_result"
    }
   ],
   "source": [
    "findCat('Is there a dog here?')"
   ]
  },
  {
   "cell_type": "code",
   "execution_count": 10,
   "id": "19fc4d24",
   "metadata": {},
   "outputs": [
    {
     "data": {
      "text/plain": [
       "'is there a dog here?'"
      ]
     },
     "execution_count": 10,
     "metadata": {},
     "output_type": "execute_result"
    }
   ],
   "source": [
    "def findDog(st):\n",
    "    return st.lower()\n",
    "findDog('Is there a dog here?')"
   ]
  },
  {
   "cell_type": "code",
   "execution_count": 11,
   "id": "5988825b",
   "metadata": {},
   "outputs": [
    {
     "data": {
      "text/plain": [
       "['Is', 'there', 'a', 'dog', 'here?']"
      ]
     },
     "execution_count": 11,
     "metadata": {},
     "output_type": "execute_result"
    }
   ],
   "source": [
    "def findDog(st):\n",
    "    return st.split()\n",
    "findDog('Is there a dog here?')"
   ]
  },
  {
   "cell_type": "markdown",
   "id": "dbd39e3f",
   "metadata": {},
   "source": [
    "7번\n",
    "\n",
    "countDog라는 함수를 만드세요. 이 함수는 파라미터에 ‘dog’라는 단어의 개수를 세어주는 기능을 합니다. \n",
    "아래와 같이 되도록 코딩하세요. \n"
   ]
  },
  {
   "cell_type": "code",
   "execution_count": 21,
   "id": "a05ad6ed",
   "metadata": {},
   "outputs": [
    {
     "data": {
      "text/plain": [
       "2"
      ]
     },
     "execution_count": 21,
     "metadata": {},
     "output_type": "execute_result"
    }
   ],
   "source": [
    "def countDog(a):\n",
    "    return a.count('dog')\n",
    "countDog(\"this dog runs faster than the other dog dudel\")\n"
   ]
  },
  {
   "cell_type": "code",
   "execution_count": 29,
   "id": "1a912a90",
   "metadata": {},
   "outputs": [],
   "source": [
    "def countDog(st):\n",
    "    count = 0\n",
    "    for word in st.lower().split():\n",
    "        if word == 'dog':\n",
    "            count += 1\n",
    "    return count"
   ]
  },
  {
   "cell_type": "code",
   "execution_count": 30,
   "id": "ba3f6ee8",
   "metadata": {},
   "outputs": [
    {
     "data": {
      "text/plain": [
       "2"
      ]
     },
     "execution_count": 30,
     "metadata": {},
     "output_type": "execute_result"
    }
   ],
   "source": [
    "countDog(\"this dog runs faster than the other dog dudel\")"
   ]
  },
  {
   "cell_type": "markdown",
   "id": "a416722e",
   "metadata": {},
   "source": [
    "8번\n",
    "\n",
    " seq = ['soup','dog','salad','cat','great'] 라는 변수를 활용하여 단어 맨 앞에 ‘s’가 포함된 단어만 아래와 같이 출력되도록 코딩하세요. \n"
   ]
  },
  {
   "cell_type": "code",
   "execution_count": 54,
   "id": "b0cdd8d7",
   "metadata": {
    "scrolled": true
   },
   "outputs": [
    {
     "data": {
      "text/plain": [
       "['soup', 'salad']"
      ]
     },
     "execution_count": 54,
     "metadata": {},
     "output_type": "execute_result"
    }
   ],
   "source": [
    "seq = [ 'soup','dog','salad','cat','great']\n",
    "list(filter(lambda a : a[0] == 's',seq))"
   ]
  },
  {
   "cell_type": "code",
   "execution_count": 64,
   "id": "ace05f46",
   "metadata": {},
   "outputs": [],
   "source": [
    "def countS(st):\n",
    "    count=0\n",
    "    for word in st.lower().split(\",\"):\n",
    "        if word[0] == 's':\n",
    "            count += 1\n",
    "    return count"
   ]
  },
  {
   "cell_type": "code",
   "execution_count": 65,
   "id": "5ee1ebaf",
   "metadata": {},
   "outputs": [
    {
     "data": {
      "text/plain": [
       "2"
      ]
     },
     "execution_count": 65,
     "metadata": {},
     "output_type": "execute_result"
    }
   ],
   "source": [
    "countS('soup,dog,salad,cat,great')"
   ]
  },
  {
   "cell_type": "markdown",
   "id": "8650ea2d",
   "metadata": {},
   "source": [
    "9번 (20점)\n",
    "\n",
    "caught_speeding이라는 함수를 만드세요. 속도를 파라미터로 입력하면 그에 따른 범칙금 내용이 출력되도록 만드세요. 시속 80키로가 넘으면 '범칙금 8만원', 시속 60키로가 넘으면 '범칙금 6만원', 60키로 이하인 경우에는 '범칙금 없음'이 출력되도록 하세요. \n",
    "caught_speeding이라는 함수를 사용하여 아래와 같은 결과가 나오도록 하세요. "
   ]
  },
  {
   "cell_type": "code",
   "execution_count": 79,
   "id": "cc1aaf2b",
   "metadata": {},
   "outputs": [],
   "source": [
    "def caught_speeding():\n",
    "\n",
    "    if caught_speeding >= 80:\n",
    "        print(\"범칙금 8만원\")\n",
    "    elif caught_speeding >= 60 and caught_speeding <= 79:\n",
    "        print(\"범칙금 6만원\")\n",
    "    else:\n",
    "        print(\"범칙금 없음\")"
   ]
  },
  {
   "cell_type": "code",
   "execution_count": 80,
   "id": "9f49832f",
   "metadata": {},
   "outputs": [
    {
     "name": "stdout",
     "output_type": "stream",
     "text": [
      "범칙금 8만원\n"
     ]
    }
   ],
   "source": [
    "caught_speeding = 81\n",
    "\n",
    "if caught_speeding >= 80:\n",
    "    print(\"범칙금 8만원\")\n",
    "elif caught_speeding >= 60 and caught_speeding <= 79:\n",
    "    print(\"범칙금 6만원\")\n",
    "else:\n",
    "    print(\"범칙금 없음\")"
   ]
  },
  {
   "cell_type": "code",
   "execution_count": 81,
   "id": "481d18c6",
   "metadata": {},
   "outputs": [
    {
     "name": "stdout",
     "output_type": "stream",
     "text": [
      "범칙금 6만원\n"
     ]
    }
   ],
   "source": [
    "caught_speeding = 65\n",
    "\n",
    "if caught_speeding >= 80:\n",
    "    print(\"범칙금 8만원\")\n",
    "elif caught_speeding >= 60 and caught_speeding <= 79:\n",
    "    print(\"범칙금 6만원\")\n",
    "else:\n",
    "    print(\"범칙금 없음\")"
   ]
  },
  {
   "cell_type": "code",
   "execution_count": 82,
   "id": "470bd613",
   "metadata": {},
   "outputs": [
    {
     "name": "stdout",
     "output_type": "stream",
     "text": [
      "범칙금 없음\n"
     ]
    }
   ],
   "source": [
    "caught_speeding = 55\n",
    "\n",
    "if caught_speeding >= 80:\n",
    "    print(\"범칙금 8만원\")\n",
    "elif caught_speeding >= 60 and caught_speeding <= 79:\n",
    "    print(\"범칙금 6만원\")\n",
    "else:\n",
    "    print(\"범칙금 없음\")"
   ]
  },
  {
   "cell_type": "code",
   "execution_count": 78,
   "id": "f5f39591",
   "metadata": {},
   "outputs": [],
   "source": [
    "def score(a):\n",
    "    if a >= 90:\n",
    "        print(\"A\")\n",
    "    elif a >= 80 and a <= 89:\n",
    "        print(\"B\")\n",
    "    elif a >= 70 and a <= 79:\n",
    "        print(\"C\")\n",
    "    else:\n",
    "        print(\"낙제\")"
   ]
  },
  {
   "cell_type": "code",
   "execution_count": 79,
   "id": "0be72a0d",
   "metadata": {},
   "outputs": [
    {
     "name": "stdout",
     "output_type": "stream",
     "text": [
      "A\n"
     ]
    }
   ],
   "source": [
    "score(91)"
   ]
  },
  {
   "cell_type": "code",
   "execution_count": 80,
   "id": "8a32645f",
   "metadata": {},
   "outputs": [
    {
     "name": "stdout",
     "output_type": "stream",
     "text": [
      "B\n"
     ]
    }
   ],
   "source": [
    "score(80)"
   ]
  },
  {
   "cell_type": "code",
   "execution_count": 81,
   "id": "f327b89c",
   "metadata": {},
   "outputs": [
    {
     "name": "stdout",
     "output_type": "stream",
     "text": [
      "C\n"
     ]
    }
   ],
   "source": [
    "score(70)"
   ]
  },
  {
   "cell_type": "code",
   "execution_count": 82,
   "id": "80945907",
   "metadata": {},
   "outputs": [
    {
     "name": "stdout",
     "output_type": "stream",
     "text": [
      "낙제\n"
     ]
    }
   ],
   "source": [
    "score(0)"
   ]
  },
  {
   "cell_type": "code",
   "execution_count": null,
   "id": "8707d534",
   "metadata": {},
   "outputs": [],
   "source": []
  }
 ],
 "metadata": {
  "kernelspec": {
   "display_name": "Python 3 (ipykernel)",
   "language": "python",
   "name": "python3"
  },
  "language_info": {
   "codemirror_mode": {
    "name": "ipython",
    "version": 3
   },
   "file_extension": ".py",
   "mimetype": "text/x-python",
   "name": "python",
   "nbconvert_exporter": "python",
   "pygments_lexer": "ipython3",
   "version": "3.9.13"
  }
 },
 "nbformat": 4,
 "nbformat_minor": 5
}
