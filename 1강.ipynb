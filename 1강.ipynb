{
 "cells": [
  {
   "cell_type": "markdown",
   "id": "1fa7730e",
   "metadata": {},
   "source": [
    "# Date Type"
   ]
  },
  {
   "cell_type": "markdown",
   "id": "dc81d919",
   "metadata": {},
   "source": [
    "Numbers"
   ]
  },
  {
   "cell_type": "code",
   "execution_count": 14,
   "id": "354ad5c1",
   "metadata": {},
   "outputs": [
    {
     "data": {
      "text/plain": [
       "2"
      ]
     },
     "execution_count": 14,
     "metadata": {},
     "output_type": "execute_result"
    }
   ],
   "source": [
    "1+1 \n",
    "# python 덧셈"
   ]
  },
  {
   "cell_type": "code",
   "execution_count": 13,
   "id": "42dcaa83",
   "metadata": {},
   "outputs": [
    {
     "data": {
      "text/plain": [
       "3"
      ]
     },
     "execution_count": 13,
     "metadata": {},
     "output_type": "execute_result"
    }
   ],
   "source": [
    "1 * 3\n",
    "# python 곱하기"
   ]
  },
  {
   "cell_type": "code",
   "execution_count": 9,
   "id": "179447d9",
   "metadata": {},
   "outputs": [
    {
     "data": {
      "text/plain": [
       "0.5"
      ]
     },
     "execution_count": 9,
     "metadata": {},
     "output_type": "execute_result"
    }
   ],
   "source": [
    "1 / 2\n",
    "# python 나누기"
   ]
  },
  {
   "cell_type": "code",
   "execution_count": 10,
   "id": "6af41436",
   "metadata": {},
   "outputs": [
    {
     "data": {
      "text/plain": [
       "16"
      ]
     },
     "execution_count": 10,
     "metadata": {},
     "output_type": "execute_result"
    }
   ],
   "source": [
    "2 ** 4\n",
    "# 2의 4승"
   ]
  },
  {
   "cell_type": "code",
   "execution_count": 11,
   "id": "c17141cc",
   "metadata": {},
   "outputs": [
    {
     "data": {
      "text/plain": [
       "0"
      ]
     },
     "execution_count": 11,
     "metadata": {},
     "output_type": "execute_result"
    }
   ],
   "source": [
    "4 % 2\n",
    "# 나머지 연산"
   ]
  },
  {
   "cell_type": "code",
   "execution_count": 12,
   "id": "b8a552e9",
   "metadata": {},
   "outputs": [
    {
     "data": {
      "text/plain": [
       "1"
      ]
     },
     "execution_count": 12,
     "metadata": {},
     "output_type": "execute_result"
    }
   ],
   "source": [
    "5 % 2\n",
    "# 나머지 연산"
   ]
  },
  {
   "cell_type": "code",
   "execution_count": 15,
   "id": "665128c7",
   "metadata": {},
   "outputs": [
    {
     "data": {
      "text/plain": [
       "22"
      ]
     },
     "execution_count": 15,
     "metadata": {},
     "output_type": "execute_result"
    }
   ],
   "source": [
    "2 + 3 * 5 + 5\n",
    "# python 사칙연산"
   ]
  },
  {
   "cell_type": "markdown",
   "id": "20dd670b",
   "metadata": {},
   "source": [
    "# 변수 대입"
   ]
  },
  {
   "cell_type": "code",
   "execution_count": 18,
   "id": "888177f2",
   "metadata": {},
   "outputs": [],
   "source": [
    "# Can Not start with number or special charaters\n",
    "# 변수는 숫자나 특수문자로 시작할 수 없다. \n",
    "name_of_var = 2 # 대입 연산자"
   ]
  },
  {
   "cell_type": "code",
   "execution_count": 17,
   "id": "df274016",
   "metadata": {},
   "outputs": [
    {
     "data": {
      "text/plain": [
       "2"
      ]
     },
     "execution_count": 17,
     "metadata": {},
     "output_type": "execute_result"
    }
   ],
   "source": [
    "# 변수\n",
    "name_of_var"
   ]
  },
  {
   "cell_type": "code",
   "execution_count": 19,
   "id": "1c574896",
   "metadata": {},
   "outputs": [],
   "source": [
    "x = 2;\n",
    "y = 3;"
   ]
  },
  {
   "cell_type": "code",
   "execution_count": 20,
   "id": "8b92cfdf",
   "metadata": {},
   "outputs": [
    {
     "data": {
      "text/plain": [
       "5"
      ]
     },
     "execution_count": 20,
     "metadata": {},
     "output_type": "execute_result"
    }
   ],
   "source": [
    "z = x + y\n",
    "z"
   ]
  },
  {
   "cell_type": "markdown",
   "id": "e61f9d78",
   "metadata": {},
   "source": [
    "# Strings <- Markdown으로 문자 입력"
   ]
  },
  {
   "cell_type": "code",
   "execution_count": 1,
   "id": "ccd753ea",
   "metadata": {},
   "outputs": [
    {
     "data": {
      "text/plain": [
       "'single quote'"
      ]
     },
     "execution_count": 1,
     "metadata": {},
     "output_type": "execute_result"
    }
   ],
   "source": [
    "'single quote' # 단따옴표"
   ]
  },
  {
   "cell_type": "code",
   "execution_count": 2,
   "id": "8fd50f73",
   "metadata": {},
   "outputs": [
    {
     "data": {
      "text/plain": [
       "'double quotes'"
      ]
     },
     "execution_count": 2,
     "metadata": {},
     "output_type": "execute_result"
    }
   ],
   "source": [
    "\"double quotes\" # 쌍따옴표"
   ]
  },
  {
   "cell_type": "code",
   "execution_count": 4,
   "id": "aafff21e",
   "metadata": {},
   "outputs": [
    {
     "data": {
      "text/plain": [
       "\"wrab lot's of other quotes\""
      ]
     },
     "execution_count": 4,
     "metadata": {},
     "output_type": "execute_result"
    }
   ],
   "source": [
    "\"wrab lot's of other quotes\"\n",
    "# 파이선에서는 space를 문자로 인식한다."
   ]
  },
  {
   "cell_type": "markdown",
   "id": "1bfd616b",
   "metadata": {},
   "source": [
    " # Printing"
   ]
  },
  {
   "cell_type": "code",
   "execution_count": 5,
   "id": "5c1505f9",
   "metadata": {},
   "outputs": [],
   "source": [
    "x = 'hello'"
   ]
  },
  {
   "cell_type": "code",
   "execution_count": 6,
   "id": "17f234b0",
   "metadata": {},
   "outputs": [
    {
     "data": {
      "text/plain": [
       "'hello'"
      ]
     },
     "execution_count": 6,
     "metadata": {},
     "output_type": "execute_result"
    }
   ],
   "source": [
    "x"
   ]
  },
  {
   "cell_type": "code",
   "execution_count": 7,
   "id": "e467f325",
   "metadata": {},
   "outputs": [
    {
     "name": "stdout",
     "output_type": "stream",
     "text": [
      "hello\n"
     ]
    }
   ],
   "source": [
    "print(x)"
   ]
  },
  {
   "cell_type": "code",
   "execution_count": 8,
   "id": "09ae9d20",
   "metadata": {},
   "outputs": [],
   "source": [
    "num = 12;\n",
    "name = \"Sam\""
   ]
  },
  {
   "cell_type": "code",
   "execution_count": 18,
   "id": "80455ed8",
   "metadata": {},
   "outputs": [
    {
     "name": "stdout",
     "output_type": "stream",
     "text": [
      "My number is : 12, and my name is : Sam\n"
     ]
    }
   ],
   "source": [
    "# format 메소드를 사용하여 {변수}안에 정해진 변수를 넣을 수 있다\n",
    "print(\"My number is : {one}, and my name is : {two}\".format(one=num,two=name))"
   ]
  },
  {
   "cell_type": "code",
   "execution_count": 19,
   "id": "ad42e462",
   "metadata": {},
   "outputs": [
    {
     "name": "stdout",
     "output_type": "stream",
     "text": [
      "My number is : 12, and my name is : Sam\n"
     ]
    }
   ],
   "source": [
    "# format 메소드를 사용하여 {}안에 정해진 변수를 넣을 수 있다\n",
    "print(\"My number is : {}, and my name is : {}\".format(num,name))"
   ]
  },
  {
   "cell_type": "code",
   "execution_count": 20,
   "id": "231af49b",
   "metadata": {},
   "outputs": [],
   "source": [
    "num1 = 18;\n",
    "name1 = \"Sungdae\""
   ]
  },
  {
   "cell_type": "code",
   "execution_count": 22,
   "id": "8cc47692",
   "metadata": {},
   "outputs": [
    {
     "name": "stdout",
     "output_type": "stream",
     "text": [
      "나이는 : 18, 그리고 이름은 : Sungdae 입니다.\n"
     ]
    }
   ],
   "source": [
    "print(\"나이는 : {one}, 그리고 이름은 : {two} 입니다.\".format(one = num1,two = name1))"
   ]
  },
  {
   "cell_type": "code",
   "execution_count": 23,
   "id": "0272719e",
   "metadata": {},
   "outputs": [
    {
     "name": "stdout",
     "output_type": "stream",
     "text": [
      "나이는 : 18, 그리고 이름은 : Sungdae 입니다.\n"
     ]
    }
   ],
   "source": [
    "print(\"나이는 : {}, 그리고 이름은 : {} 입니다.\".format(num1,name1))"
   ]
  },
  {
   "cell_type": "markdown",
   "id": "6602a96d",
   "metadata": {},
   "source": [
    "# Lists"
   ]
  },
  {
   "cell_type": "code",
   "execution_count": 24,
   "id": "54017d1f",
   "metadata": {},
   "outputs": [
    {
     "data": {
      "text/plain": [
       "[1, 2, 3]"
      ]
     },
     "execution_count": 24,
     "metadata": {},
     "output_type": "execute_result"
    }
   ],
   "source": [
    "[1,2,3]"
   ]
  },
  {
   "cell_type": "code",
   "execution_count": 26,
   "id": "f0f637de",
   "metadata": {},
   "outputs": [
    {
     "data": {
      "text/plain": [
       "['hi', 1, [2, 3]]"
      ]
     },
     "execution_count": 26,
     "metadata": {},
     "output_type": "execute_result"
    }
   ],
   "source": [
    "[\"hi\",1,[2,3]] # 리스트 안엔 다양한 형태의 데이터가 들어갈 수 있다."
   ]
  },
  {
   "cell_type": "code",
   "execution_count": 36,
   "id": "1e0501d7",
   "metadata": {},
   "outputs": [
    {
     "data": {
      "text/plain": [
       "['a', 'b', 'c']"
      ]
     },
     "execution_count": 36,
     "metadata": {},
     "output_type": "execute_result"
    }
   ],
   "source": [
    "my_list = ['a','b','c'];\n",
    "my_list"
   ]
  },
  {
   "cell_type": "code",
   "execution_count": 37,
   "id": "906182dd",
   "metadata": {},
   "outputs": [
    {
     "data": {
      "text/plain": [
       "['a', 'b', 'c', 'd']"
      ]
     },
     "execution_count": 37,
     "metadata": {},
     "output_type": "execute_result"
    }
   ],
   "source": [
    "my_list.append('d') # 리스트 형의 데이터 타입에\n",
    "my_list             # 추가 데이터를 넣는 방법 .append()"
   ]
  },
  {
   "cell_type": "code",
   "execution_count": 32,
   "id": "ed4e404a",
   "metadata": {},
   "outputs": [
    {
     "data": {
      "text/plain": [
       "'a'"
      ]
     },
     "execution_count": 32,
     "metadata": {},
     "output_type": "execute_result"
    }
   ],
   "source": [
    "my_list[0]"
   ]
  },
  {
   "cell_type": "code",
   "execution_count": 34,
   "id": "c599498a",
   "metadata": {},
   "outputs": [
    {
     "data": {
      "text/plain": [
       "'b'"
      ]
     },
     "execution_count": 34,
     "metadata": {},
     "output_type": "execute_result"
    }
   ],
   "source": [
    "my_list[1]"
   ]
  },
  {
   "cell_type": "code",
   "execution_count": 38,
   "id": "ae2033ac",
   "metadata": {},
   "outputs": [
    {
     "data": {
      "text/plain": [
       "['b', 'c', 'd']"
      ]
     },
     "execution_count": 38,
     "metadata": {},
     "output_type": "execute_result"
    }
   ],
   "source": [
    "my_list[1:]"
   ]
  },
  {
   "cell_type": "code",
   "execution_count": 39,
   "id": "f59bcce9",
   "metadata": {},
   "outputs": [],
   "source": [
    "my_list[0] = \"NEW\""
   ]
  },
  {
   "cell_type": "code",
   "execution_count": 40,
   "id": "facf9340",
   "metadata": {},
   "outputs": [
    {
     "data": {
      "text/plain": [
       "['NEW', 'b', 'c', 'd']"
      ]
     },
     "execution_count": 40,
     "metadata": {},
     "output_type": "execute_result"
    }
   ],
   "source": [
    "my_list"
   ]
  },
  {
   "cell_type": "code",
   "execution_count": 44,
   "id": "6f7d1f53",
   "metadata": {},
   "outputs": [],
   "source": [
    "nest = [1,2,3,[4,5,['target']]]"
   ]
  },
  {
   "cell_type": "code",
   "execution_count": 45,
   "id": "e6c24468",
   "metadata": {},
   "outputs": [
    {
     "data": {
      "text/plain": [
       "[4, 5, ['target']]"
      ]
     },
     "execution_count": 45,
     "metadata": {},
     "output_type": "execute_result"
    }
   ],
   "source": [
    "nest[3]"
   ]
  },
  {
   "cell_type": "code",
   "execution_count": 46,
   "id": "b7a928dc",
   "metadata": {},
   "outputs": [
    {
     "data": {
      "text/plain": [
       "['target']"
      ]
     },
     "execution_count": 46,
     "metadata": {},
     "output_type": "execute_result"
    }
   ],
   "source": [
    "nest[3][2]"
   ]
  },
  {
   "cell_type": "code",
   "execution_count": 47,
   "id": "14576494",
   "metadata": {},
   "outputs": [
    {
     "data": {
      "text/plain": [
       "'target'"
      ]
     },
     "execution_count": 47,
     "metadata": {},
     "output_type": "execute_result"
    }
   ],
   "source": [
    "nest[3][2][0]"
   ]
  },
  {
   "cell_type": "markdown",
   "id": "344bad5f",
   "metadata": {},
   "source": [
    " # Dictionaries"
   ]
  },
  {
   "cell_type": "code",
   "execution_count": 4,
   "id": "780dad49",
   "metadata": {},
   "outputs": [],
   "source": [
    "d = {\"key1\" : \"item1\", \"key2\" : \"item2\"}\n",
    "# 매핑(Mapping)\n",
    "# 데이터 이름 : 데이터 내용"
   ]
  },
  {
   "cell_type": "code",
   "execution_count": 2,
   "id": "ad39f2b1",
   "metadata": {},
   "outputs": [
    {
     "data": {
      "text/plain": [
       "{'key1': 'item1', 'key2': 'item2'}"
      ]
     },
     "execution_count": 2,
     "metadata": {},
     "output_type": "execute_result"
    }
   ],
   "source": [
    "d"
   ]
  },
  {
   "cell_type": "code",
   "execution_count": 6,
   "id": "21a13cf9",
   "metadata": {},
   "outputs": [
    {
     "data": {
      "text/plain": [
       "'item1'"
      ]
     },
     "execution_count": 6,
     "metadata": {},
     "output_type": "execute_result"
    }
   ],
   "source": [
    "d[\"key1\"]"
   ]
  },
  {
   "cell_type": "code",
   "execution_count": 7,
   "id": "42bf7766",
   "metadata": {},
   "outputs": [
    {
     "data": {
      "text/plain": [
       "'item2'"
      ]
     },
     "execution_count": 7,
     "metadata": {},
     "output_type": "execute_result"
    }
   ],
   "source": [
    "d[\"key2\"]"
   ]
  },
  {
   "cell_type": "markdown",
   "id": "9cf5cc79",
   "metadata": {},
   "source": [
    "# Booleans\n",
    "## 참과 거짓을 표현하는 데이터 형태"
   ]
  },
  {
   "cell_type": "code",
   "execution_count": 11,
   "id": "cb633276",
   "metadata": {},
   "outputs": [
    {
     "data": {
      "text/plain": [
       "True"
      ]
     },
     "execution_count": 11,
     "metadata": {},
     "output_type": "execute_result"
    }
   ],
   "source": [
    "True\n",
    "# 1과 같음"
   ]
  },
  {
   "cell_type": "code",
   "execution_count": 12,
   "id": "c844154d",
   "metadata": {},
   "outputs": [
    {
     "data": {
      "text/plain": [
       "False"
      ]
     },
     "execution_count": 12,
     "metadata": {},
     "output_type": "execute_result"
    }
   ],
   "source": [
    "False\n",
    "# 0과 같음"
   ]
  },
  {
   "cell_type": "markdown",
   "id": "73acb11e",
   "metadata": {},
   "source": [
    "# Tuples"
   ]
  },
  {
   "cell_type": "code",
   "execution_count": 16,
   "id": "9dba2c02",
   "metadata": {},
   "outputs": [],
   "source": [
    "t = (1,2,3)"
   ]
  },
  {
   "cell_type": "code",
   "execution_count": 14,
   "id": "b5374f48",
   "metadata": {},
   "outputs": [
    {
     "name": "stdout",
     "output_type": "stream",
     "text": [
      "<class 'tuple'>\n"
     ]
    }
   ],
   "source": [
    "print(type(t))"
   ]
  },
  {
   "cell_type": "code",
   "execution_count": 19,
   "id": "9175d9cc",
   "metadata": {},
   "outputs": [
    {
     "data": {
      "text/plain": [
       "1"
      ]
     },
     "execution_count": 19,
     "metadata": {},
     "output_type": "execute_result"
    }
   ],
   "source": [
    "t[0]\n",
    "# index"
   ]
  },
  {
   "cell_type": "code",
   "execution_count": 18,
   "id": "28bb5a9c",
   "metadata": {},
   "outputs": [
    {
     "data": {
      "text/plain": [
       "3"
      ]
     },
     "execution_count": 18,
     "metadata": {},
     "output_type": "execute_result"
    }
   ],
   "source": [
    "t[2]"
   ]
  },
  {
   "cell_type": "code",
   "execution_count": 20,
   "id": "0cf91580",
   "metadata": {},
   "outputs": [
    {
     "data": {
      "text/plain": [
       "{1, 2, 3}"
      ]
     },
     "execution_count": 20,
     "metadata": {},
     "output_type": "execute_result"
    }
   ],
   "source": [
    "{1,2,3}"
   ]
  },
  {
   "cell_type": "code",
   "execution_count": 22,
   "id": "a29ca6d6",
   "metadata": {},
   "outputs": [
    {
     "data": {
      "text/plain": [
       "{1, 2, 3}"
      ]
     },
     "execution_count": 22,
     "metadata": {},
     "output_type": "execute_result"
    }
   ],
   "source": [
    "{1,2,3,1,2,1,2,3,3,3,3,2,2,1,1,2}\n",
    "# Set이라는 데이터 타압은 중복을 허용하지 않음"
   ]
  },
  {
   "cell_type": "markdown",
   "id": "1a468489",
   "metadata": {},
   "source": [
    "# Comarison Operators : 비교연산자"
   ]
  },
  {
   "cell_type": "code",
   "execution_count": 23,
   "id": "5f7b2ebd",
   "metadata": {},
   "outputs": [
    {
     "data": {
      "text/plain": [
       "False"
      ]
     },
     "execution_count": 23,
     "metadata": {},
     "output_type": "execute_result"
    }
   ],
   "source": [
    "1 > 2"
   ]
  },
  {
   "cell_type": "code",
   "execution_count": 24,
   "id": "060aceee",
   "metadata": {},
   "outputs": [
    {
     "data": {
      "text/plain": [
       "True"
      ]
     },
     "execution_count": 24,
     "metadata": {},
     "output_type": "execute_result"
    }
   ],
   "source": [
    "1 < 2"
   ]
  },
  {
   "cell_type": "code",
   "execution_count": 25,
   "id": "b928ed29",
   "metadata": {},
   "outputs": [
    {
     "data": {
      "text/plain": [
       "False"
      ]
     },
     "execution_count": 25,
     "metadata": {},
     "output_type": "execute_result"
    }
   ],
   "source": [
    "1 >= 2"
   ]
  },
  {
   "cell_type": "code",
   "execution_count": 32,
   "id": "7a366f95",
   "metadata": {},
   "outputs": [
    {
     "data": {
      "text/plain": [
       "True"
      ]
     },
     "execution_count": 32,
     "metadata": {},
     "output_type": "execute_result"
    }
   ],
   "source": [
    "1 >= 1\n",
    "# > or = , 두 조건 중 하나만 성립하면 True"
   ]
  },
  {
   "cell_type": "code",
   "execution_count": 27,
   "id": "56183d67",
   "metadata": {},
   "outputs": [
    {
     "data": {
      "text/plain": [
       "True"
      ]
     },
     "execution_count": 27,
     "metadata": {},
     "output_type": "execute_result"
    }
   ],
   "source": [
    "1 <= 4"
   ]
  },
  {
   "cell_type": "code",
   "execution_count": 33,
   "id": "cf05d117",
   "metadata": {},
   "outputs": [
    {
     "data": {
      "text/plain": [
       "True"
      ]
     },
     "execution_count": 33,
     "metadata": {},
     "output_type": "execute_result"
    }
   ],
   "source": [
    "1 == 1\n",
    "# = 대입연산자\n",
    "# == 같다"
   ]
  },
  {
   "cell_type": "code",
   "execution_count": 35,
   "id": "7214c60d",
   "metadata": {},
   "outputs": [
    {
     "data": {
      "text/plain": [
       "False"
      ]
     },
     "execution_count": 35,
     "metadata": {},
     "output_type": "execute_result"
    }
   ],
   "source": [
    "\"hi\" == \"bye\""
   ]
  },
  {
   "cell_type": "markdown",
   "id": "0144c939",
   "metadata": {},
   "source": [
    "# Logic Operators : 논리 연산자"
   ]
  },
  {
   "cell_type": "code",
   "execution_count": 41,
   "id": "11cfee9d",
   "metadata": {},
   "outputs": [
    {
     "data": {
      "text/plain": [
       "False"
      ]
     },
     "execution_count": 41,
     "metadata": {},
     "output_type": "execute_result"
    }
   ],
   "source": [
    "(1 > 2) and (2 < 3)\n",
    "# and 는 둘 다 참이어야만 참이다."
   ]
  },
  {
   "cell_type": "code",
   "execution_count": 42,
   "id": "9a5c6f7c",
   "metadata": {},
   "outputs": [
    {
     "data": {
      "text/plain": [
       "True"
      ]
     },
     "execution_count": 42,
     "metadata": {},
     "output_type": "execute_result"
    }
   ],
   "source": [
    "(1 > 2 ) or ( 2 < 3 )\n",
    "# or 는 둘 중 하나만 참이면 참이다."
   ]
  },
  {
   "cell_type": "code",
   "execution_count": 43,
   "id": "f6dd011b",
   "metadata": {},
   "outputs": [
    {
     "data": {
      "text/plain": [
       "True"
      ]
     },
     "execution_count": 43,
     "metadata": {},
     "output_type": "execute_result"
    }
   ],
   "source": [
    "( 1 == 2 ) or (2 == 3) or (4 == 4)\n",
    "# 3개 (항의 개수) 중 하나만 참이면 참이다."
   ]
  },
  {
   "cell_type": "markdown",
   "id": "a0ba29a2",
   "metadata": {},
   "source": [
    "# if, elif, else Statements"
   ]
  },
  {
   "cell_type": "code",
   "execution_count": 44,
   "id": "b775363c",
   "metadata": {
    "scrolled": true
   },
   "outputs": [
    {
     "name": "stdout",
     "output_type": "stream",
     "text": [
      "Yep!\n"
     ]
    }
   ],
   "source": [
    "if 1 < 2 :\n",
    "    print(\"Yep!\")"
   ]
  },
  {
   "cell_type": "code",
   "execution_count": 46,
   "id": "78a69567",
   "metadata": {},
   "outputs": [
    {
     "name": "stdout",
     "output_type": "stream",
     "text": [
      "yep!\n"
     ]
    }
   ],
   "source": [
    "if 1 < 2 :\n",
    "    print(\"yep!\")"
   ]
  },
  {
   "cell_type": "code",
   "execution_count": 50,
   "id": "b1b76f5a",
   "metadata": {},
   "outputs": [
    {
     "name": "stdout",
     "output_type": "stream",
     "text": [
      "first\n"
     ]
    }
   ],
   "source": [
    "if 1 < 2 :\n",
    "    print(\"first\")\n",
    "else: # true가 아닐경우, if문 조건에 맞지 않을 경우\n",
    "    print(\"last\")"
   ]
  },
  {
   "cell_type": "code",
   "execution_count": 51,
   "id": "2c5c3ff1",
   "metadata": {},
   "outputs": [
    {
     "name": "stdout",
     "output_type": "stream",
     "text": [
      "last\n"
     ]
    }
   ],
   "source": [
    "if 1 > 2:\n",
    "    print('first')\n",
    "else : # if문이 실행되는 조건은 1 > 2 이어야 하는데, 1은 2보다 크지 않으므로,\n",
    "       # if문이 실행되지 않고, else문이 실행됩니다.\n",
    "    print('last')"
   ]
  },
  {
   "cell_type": "code",
   "execution_count": 52,
   "id": "00780e47",
   "metadata": {},
   "outputs": [
    {
     "name": "stdout",
     "output_type": "stream",
     "text": [
      "middle\n"
     ]
    }
   ],
   "source": [
    "if 1 == 2: # if문은 조건이 맞지 않는다.\n",
    "    print('first')\n",
    "elif 3 == 3: # elif문은 조건이 맞기에 elif에서 동작을 멈춤\n",
    "    print(\"middle\")\n",
    "else:\n",
    "    print(\"Last\")"
   ]
  },
  {
   "cell_type": "markdown",
   "id": "3a5420a6",
   "metadata": {},
   "source": [
    "# for Loops"
   ]
  },
  {
   "cell_type": "code",
   "execution_count": 53,
   "id": "2776f659",
   "metadata": {},
   "outputs": [],
   "source": [
    "seq = [1,2,3,4,5]"
   ]
  },
  {
   "cell_type": "code",
   "execution_count": 54,
   "id": "235d86d1",
   "metadata": {},
   "outputs": [
    {
     "name": "stdout",
     "output_type": "stream",
     "text": [
      "1\n",
      "2\n",
      "3\n",
      "4\n",
      "5\n"
     ]
    }
   ],
   "source": [
    "for item in seq:\n",
    "    print(item)"
   ]
  },
  {
   "cell_type": "code",
   "execution_count": 59,
   "id": "aebdf50e",
   "metadata": {},
   "outputs": [
    {
     "name": "stdout",
     "output_type": "stream",
     "text": [
      "b\n",
      "b\n",
      "b\n",
      "b\n",
      "b\n"
     ]
    }
   ],
   "source": [
    "for item in seq:\n",
    "    print(\"b\")"
   ]
  },
  {
   "cell_type": "code",
   "execution_count": 58,
   "id": "fee8ef35",
   "metadata": {},
   "outputs": [
    {
     "name": "stdout",
     "output_type": "stream",
     "text": [
      "2\n",
      "4\n",
      "6\n",
      "8\n",
      "10\n"
     ]
    }
   ],
   "source": [
    "for hello in seq:\n",
    "    print(hello + hello)"
   ]
  },
  {
   "cell_type": "markdown",
   "id": "25b0121b",
   "metadata": {},
   "source": [
    "# while Loops"
   ]
  },
  {
   "cell_type": "code",
   "execution_count": 65,
   "id": "3e161ae7",
   "metadata": {},
   "outputs": [
    {
     "name": "stdout",
     "output_type": "stream",
     "text": [
      "i is : 1\n",
      "i is : 2\n",
      "i is : 3\n",
      "i is : 4\n"
     ]
    }
   ],
   "source": [
    "i = 1\n",
    "while i < 5: # i 가 5보다 작다면  # 1,2,3,4까지 실행됨\n",
    "    print('i is : {}'.format(i)) # print로 현재 i의 수를 출력 # {}에 i를 넣는다.\n",
    "    i = i+1 # i에다 i+1을 대입 i가 5가 될시 종료됨 # 그 후 i에 1을 더한다"
   ]
  },
  {
   "cell_type": "markdown",
   "id": "44cb8a3f",
   "metadata": {},
   "source": [
    "# range()"
   ]
  },
  {
   "cell_type": "code",
   "execution_count": 69,
   "id": "c6ffd4e3",
   "metadata": {},
   "outputs": [
    {
     "data": {
      "text/plain": [
       "range(0, 5)"
      ]
     },
     "execution_count": 69,
     "metadata": {},
     "output_type": "execute_result"
    }
   ],
   "source": [
    "range(5) # 0부터 5개"
   ]
  },
  {
   "cell_type": "code",
   "execution_count": 68,
   "id": "2a7316a3",
   "metadata": {},
   "outputs": [
    {
     "name": "stdout",
     "output_type": "stream",
     "text": [
      "0\n",
      "1\n",
      "2\n",
      "3\n",
      "4\n"
     ]
    }
   ],
   "source": [
    "for i in range(5):\n",
    "    print(i)"
   ]
  },
  {
   "cell_type": "markdown",
   "id": "6dc1f72b",
   "metadata": {},
   "source": [
    "# list comprehension"
   ]
  },
  {
   "cell_type": "code",
   "execution_count": 70,
   "id": "885551f8",
   "metadata": {},
   "outputs": [],
   "source": [
    "x = [1,2,3,4]"
   ]
  },
  {
   "cell_type": "code",
   "execution_count": 73,
   "id": "0bb3b603",
   "metadata": {},
   "outputs": [
    {
     "name": "stdout",
     "output_type": "stream",
     "text": [
      "[2, 4, 6, 8]\n"
     ]
    }
   ],
   "source": [
    "out = [] # out이라는 list 선언\n",
    "for item in x:\n",
    "    out.append(item*2) # out이라는 리스트에 괄호 안 내용을 추가해라.\n",
    "print(out)"
   ]
  },
  {
   "cell_type": "code",
   "execution_count": 74,
   "id": "14f86984",
   "metadata": {},
   "outputs": [
    {
     "data": {
      "text/plain": [
       "[1, 4, 9, 16]"
      ]
     },
     "execution_count": 74,
     "metadata": {},
     "output_type": "execute_result"
    }
   ],
   "source": [
    "[item**2 for item in x] # x안에 있는 내용을 차례댈 item이라는 이름으로 뽑는다.\n",
    "                         # 그런후에 item ** 2의 내용으로 list에 채워 넣는다."
   ]
  },
  {
   "cell_type": "markdown",
   "id": "4a98c292",
   "metadata": {},
   "source": [
    "# functions"
   ]
  },
  {
   "cell_type": "code",
   "execution_count": 10,
   "id": "6d51dd5b",
   "metadata": {},
   "outputs": [],
   "source": [
    "def my_func(param1 = \"default\"): # def는 함수 명 앞에 놓여서 함수를 정의한다는 뜻\n",
    "# (param1 = 'default')는 parameter,\n",
    "#함수를 실행할 때 파라미터가 입력값으로 들어가 실행된다.\n",
    "# 함수 내부에서 주석으로 처리하고자 하는 부분은 \"\"\"로 시작하여\"\"\"로 끝내면 된다.\n",
    "# 해당 사항은 함수 내용에 영향을 미치지 않는다.\n",
    "# my_func라는 함수는 string 형태를 param1에 저장하여 param1을 프린트하는 기능을 가졌다\n",
    "    \"\"\"                          \n",
    "    Docstring does here.\n",
    "    \"\"\"\n",
    "    print(param1)"
   ]
  },
  {
   "cell_type": "code",
   "execution_count": 3,
   "id": "944f681b",
   "metadata": {},
   "outputs": [
    {
     "data": {
      "text/plain": [
       "<function __main__.my_func(param1='default')>"
      ]
     },
     "execution_count": 3,
     "metadata": {},
     "output_type": "execute_result"
    }
   ],
   "source": [
    "my_func"
   ]
  },
  {
   "cell_type": "code",
   "execution_count": 12,
   "id": "8cbccd34",
   "metadata": {},
   "outputs": [
    {
     "name": "stdout",
     "output_type": "stream",
     "text": [
      "default\n"
     ]
    }
   ],
   "source": [
    "my_func() # 함수 my_func()를 통해서\n",
    "        # 파라미터에 들어가 있는 string형태의 데이터를 print하게 된다."
   ]
  },
  {
   "cell_type": "code",
   "execution_count": 13,
   "id": "3d9b87e0",
   "metadata": {},
   "outputs": [
    {
     "name": "stdout",
     "output_type": "stream",
     "text": [
      "3\n"
     ]
    }
   ],
   "source": [
    "my_func(3)"
   ]
  },
  {
   "cell_type": "code",
   "execution_count": 6,
   "id": "38543201",
   "metadata": {},
   "outputs": [
    {
     "name": "stdout",
     "output_type": "stream",
     "text": [
      "new param\n"
     ]
    }
   ],
   "source": [
    "my_func(param1 = 'new param')"
   ]
  },
  {
   "cell_type": "code",
   "execution_count": 7,
   "id": "e1e3adff",
   "metadata": {},
   "outputs": [],
   "source": [
    "def square(x): # square()라는 함수를 선언하고\n",
    "                #매개변수 자리에 변수를 대입하면 2제곱으로 출력\n",
    "        # square라는 이름의 함수는 숫자 하나를 받아들여서 그 숫자의 제곱값을\n",
    "        # 내 놓는 기능을 한다.\n",
    "    return x**2"
   ]
  },
  {
   "cell_type": "code",
   "execution_count": 14,
   "id": "24c56568",
   "metadata": {},
   "outputs": [
    {
     "name": "stdout",
     "output_type": "stream",
     "text": [
      "4\n"
     ]
    }
   ],
   "source": [
    "out = square(2) # out에 담긴 2**2가 출력된다.\n",
    "print(out)"
   ]
  },
  {
   "cell_type": "code",
   "execution_count": 62,
   "id": "8e2d9105",
   "metadata": {},
   "outputs": [
    {
     "name": "stdout",
     "output_type": "stream",
     "text": [
      "4\n"
     ]
    }
   ],
   "source": [
    "def times2(var):\n",
    "    return var*2\n",
    "print(times(2))"
   ]
  },
  {
   "cell_type": "code",
   "execution_count": 17,
   "id": "cff32a48",
   "metadata": {},
   "outputs": [],
   "source": [
    "# var (variable : 변수)라는 파라미터를 받아서,\n",
    "# 그것의 *2값을 출력하도록 하는 times2라는 이름의 함수"
   ]
  },
  {
   "cell_type": "markdown",
   "id": "87b7c33b",
   "metadata": {},
   "source": [
    "# map and filter"
   ]
  },
  {
   "cell_type": "code",
   "execution_count": 2,
   "id": "5e503355",
   "metadata": {},
   "outputs": [],
   "source": [
    "seq = [1,2,3,4,5] # seq이라는 변수를 [1,2,3,4,5]라는 리스트형태롤 저장한다."
   ]
  },
  {
   "cell_type": "code",
   "execution_count": 38,
   "id": "9132d17b",
   "metadata": {
    "scrolled": true
   },
   "outputs": [
    {
     "data": {
      "text/plain": [
       "[2, 4, 6, 8, 10]"
      ]
     },
     "execution_count": 38,
     "metadata": {},
     "output_type": "execute_result"
    }
   ],
   "source": [
    "list(map(times2,seq)) # times2와 seq를 map이라는 함수를 이용하여 계산하고 \n",
    "                      #list로 출력한다.\n",
    "# seq에 있는 리스트 내용의 전체를 앞에서부터 하나씩 times2라는 함수의 파라미터로\n",
    "# 넣어서 list 형태로 출력해준다. map은 괄호 안에 첫번째 나오는 함수 times2와 seq를\n",
    "# 하나식 짝지어주는 내장함수이다."
   ]
  },
  {
   "cell_type": "code",
   "execution_count": 39,
   "id": "cfb1f1c2",
   "metadata": {},
   "outputs": [
    {
     "data": {
      "text/plain": [
       "[2, 4, 6, 8, 10]"
      ]
     },
     "execution_count": 39,
     "metadata": {},
     "output_type": "execute_result"
    }
   ],
   "source": [
    "list(map(lambda var : var * 2, seq)) # lambda라는 함수를 이용하여 \n",
    "                                      # 번거로운 작업을 수월하게 줄임\n",
    "# lambda함수의 뒤에 오는 두가지 a:a*2는 a를 input으로 받아서 a*2를\n",
    "# output으로 내 놓으라는 뜻이다."
   ]
  },
  {
   "cell_type": "code",
   "execution_count": null,
   "id": "8934ef8a",
   "metadata": {},
   "outputs": [],
   "source": []
  },
  {
   "cell_type": "code",
   "execution_count": 65,
   "id": "f07b88e2",
   "metadata": {},
   "outputs": [
    {
     "data": {
      "text/plain": [
       "[3, 6, 9, 12, 15]"
      ]
     },
     "execution_count": 65,
     "metadata": {},
     "output_type": "execute_result"
    }
   ],
   "source": [
    "list(map(lambda var : var * 3 , seq))"
   ]
  },
  {
   "cell_type": "code",
   "execution_count": 68,
   "id": "e4fa1197",
   "metadata": {},
   "outputs": [
    {
     "data": {
      "text/plain": [
       "[0.5, 1.0, 1.5, 2.0, 2.5]"
      ]
     },
     "execution_count": 68,
     "metadata": {},
     "output_type": "execute_result"
    }
   ],
   "source": [
    "list(map(lambda var : var / 2, seq))"
   ]
  },
  {
   "cell_type": "code",
   "execution_count": 5,
   "id": "3a215662",
   "metadata": {},
   "outputs": [
    {
     "data": {
      "text/plain": [
       "[1, 3, 5]"
      ]
     },
     "execution_count": 5,
     "metadata": {},
     "output_type": "execute_result"
    }
   ],
   "source": [
    "list(filter(lambda item : item%2 == 1, seq))\n",
    "# fillter는 조건에 맞는 부분만 출력해주는 것이다. 그래서 lambda에 item이라는 변수에\n",
    "# seq의 리스트 내용 중 앞에서부터 하나씩 넣었을 때 해당 item을 2로 나눈 나머지가 0인\n",
    "# 것만 빼서 출력한다."
   ]
  },
  {
   "cell_type": "code",
   "execution_count": 11,
   "id": "6bad37da",
   "metadata": {},
   "outputs": [
    {
     "data": {
      "text/plain": [
       "12"
      ]
     },
     "execution_count": 11,
     "metadata": {},
     "output_type": "execute_result"
    }
   ],
   "source": [
    "t = lambda t : t * 2\n",
    "t(6)"
   ]
  },
  {
   "cell_type": "markdown",
   "id": "e37f7df5",
   "metadata": {},
   "source": [
    "# methods"
   ]
  },
  {
   "cell_type": "code",
   "execution_count": 72,
   "id": "146f13d7",
   "metadata": {},
   "outputs": [],
   "source": [
    "st = \"hello my name is Sam\""
   ]
  },
  {
   "cell_type": "code",
   "execution_count": 73,
   "id": "2a3de0e9",
   "metadata": {},
   "outputs": [
    {
     "data": {
      "text/plain": [
       "'hello my name is sam'"
      ]
     },
     "execution_count": 73,
     "metadata": {},
     "output_type": "execute_result"
    }
   ],
   "source": [
    "st.lower()"
   ]
  },
  {
   "cell_type": "code",
   "execution_count": 75,
   "id": "5f4ee2c3",
   "metadata": {},
   "outputs": [
    {
     "data": {
      "text/plain": [
       "'HELLO MY NAME IS SAM'"
      ]
     },
     "execution_count": 75,
     "metadata": {},
     "output_type": "execute_result"
    }
   ],
   "source": [
    "st.upper()"
   ]
  },
  {
   "cell_type": "code",
   "execution_count": 76,
   "id": "b5c249fe",
   "metadata": {},
   "outputs": [
    {
     "data": {
      "text/plain": [
       "['hello', 'my', 'name', 'is', 'Sam']"
      ]
     },
     "execution_count": 76,
     "metadata": {},
     "output_type": "execute_result"
    }
   ],
   "source": [
    "st.split(\" \")"
   ]
  },
  {
   "cell_type": "code",
   "execution_count": 77,
   "id": "1b7cb726",
   "metadata": {},
   "outputs": [],
   "source": [
    "tweet = \"Go Sports! #Sports\""
   ]
  },
  {
   "cell_type": "code",
   "execution_count": 78,
   "id": "65e8d4c1",
   "metadata": {},
   "outputs": [
    {
     "data": {
      "text/plain": [
       "['Go Sports! ', 'Sports']"
      ]
     },
     "execution_count": 78,
     "metadata": {},
     "output_type": "execute_result"
    }
   ],
   "source": [
    "tweet.split(\"#\")"
   ]
  },
  {
   "cell_type": "code",
   "execution_count": 79,
   "id": "0ee535f0",
   "metadata": {},
   "outputs": [
    {
     "data": {
      "text/plain": [
       "'Sports'"
      ]
     },
     "execution_count": 79,
     "metadata": {},
     "output_type": "execute_result"
    }
   ],
   "source": [
    "tweet.split(\"#\")[1]"
   ]
  },
  {
   "cell_type": "code",
   "execution_count": 14,
   "id": "7d596a24",
   "metadata": {},
   "outputs": [
    {
     "data": {
      "text/plain": [
       "{'a': 1, 'b': 2, 'c': 3}"
      ]
     },
     "execution_count": 14,
     "metadata": {},
     "output_type": "execute_result"
    }
   ],
   "source": [
    "dic1 = {'a' : 1 , 'b' : 2, 'c' : 3}\n",
    "dic1 # Dictionary 형태의 데이터 타입.\n",
    "    # Dictionary의 데이터는 key와 value(item)로 구성되어 있다."
   ]
  },
  {
   "cell_type": "code",
   "execution_count": 19,
   "id": "8a6e25bf",
   "metadata": {},
   "outputs": [
    {
     "data": {
      "text/plain": [
       "dict_keys(['a', 'b', 'c'])"
      ]
     },
     "execution_count": 19,
     "metadata": {},
     "output_type": "execute_result"
    }
   ],
   "source": [
    "dic1.keys()"
   ]
  },
  {
   "cell_type": "code",
   "execution_count": 20,
   "id": "9fe2bce4",
   "metadata": {},
   "outputs": [
    {
     "data": {
      "text/plain": [
       "dict_items([('a', 1), ('b', 2), ('c', 3)])"
      ]
     },
     "execution_count": 20,
     "metadata": {},
     "output_type": "execute_result"
    }
   ],
   "source": [
    "dic1.items()"
   ]
  },
  {
   "cell_type": "code",
   "execution_count": 21,
   "id": "a6686d85",
   "metadata": {},
   "outputs": [
    {
     "data": {
      "text/plain": [
       "dict_values([1, 2, 3])"
      ]
     },
     "execution_count": 21,
     "metadata": {},
     "output_type": "execute_result"
    }
   ],
   "source": [
    "dic1.values()"
   ]
  },
  {
   "cell_type": "code",
   "execution_count": 26,
   "id": "3634bdb5",
   "metadata": {},
   "outputs": [],
   "source": [
    "lst = [1,2,3,4,5,6,7]"
   ]
  },
  {
   "cell_type": "code",
   "execution_count": 33,
   "id": "5e1f7266",
   "metadata": {},
   "outputs": [],
   "source": [
    "popednumber1 = lst.pop()"
   ]
  },
  {
   "cell_type": "code",
   "execution_count": 35,
   "id": "9bc76dd5",
   "metadata": {},
   "outputs": [
    {
     "data": {
      "text/plain": [
       "5"
      ]
     },
     "execution_count": 35,
     "metadata": {},
     "output_type": "execute_result"
    }
   ],
   "source": [
    "popednumber1"
   ]
  },
  {
   "cell_type": "code",
   "execution_count": 41,
   "id": "d56f6f38",
   "metadata": {},
   "outputs": [
    {
     "data": {
      "text/plain": [
       "{2, 3, 4}"
      ]
     },
     "execution_count": 41,
     "metadata": {},
     "output_type": "execute_result"
    }
   ],
   "source": [
    "lst"
   ]
  },
  {
   "cell_type": "code",
   "execution_count": 146,
   "id": "76219045",
   "metadata": {},
   "outputs": [],
   "source": [
    "popedumber1 = lst.pop()"
   ]
  },
  {
   "cell_type": "code",
   "execution_count": 147,
   "id": "d44ece76",
   "metadata": {},
   "outputs": [
    {
     "data": {
      "text/plain": [
       "5"
      ]
     },
     "execution_count": 147,
     "metadata": {},
     "output_type": "execute_result"
    }
   ],
   "source": [
    "popednumber1"
   ]
  },
  {
   "cell_type": "code",
   "execution_count": 42,
   "id": "6c597adf",
   "metadata": {},
   "outputs": [],
   "source": [
    "lst = [1,2,3,4]"
   ]
  },
  {
   "cell_type": "code",
   "execution_count": 43,
   "id": "ff3221bc",
   "metadata": {},
   "outputs": [],
   "source": [
    "popednumber2 = lst.pop(0)"
   ]
  },
  {
   "cell_type": "code",
   "execution_count": 44,
   "id": "24e5d7de",
   "metadata": {},
   "outputs": [
    {
     "data": {
      "text/plain": [
       "1"
      ]
     },
     "execution_count": 44,
     "metadata": {},
     "output_type": "execute_result"
    }
   ],
   "source": [
    "popednumber2"
   ]
  },
  {
   "cell_type": "code",
   "execution_count": 45,
   "id": "dcf1d031",
   "metadata": {},
   "outputs": [
    {
     "data": {
      "text/plain": [
       "[2, 3, 4]"
      ]
     },
     "execution_count": 45,
     "metadata": {},
     "output_type": "execute_result"
    }
   ],
   "source": [
    "lst"
   ]
  },
  {
   "cell_type": "code",
   "execution_count": 46,
   "id": "2ce1a8df",
   "metadata": {},
   "outputs": [],
   "source": [
    "lst.append('new')"
   ]
  },
  {
   "cell_type": "code",
   "execution_count": 47,
   "id": "e44c82fd",
   "metadata": {},
   "outputs": [
    {
     "data": {
      "text/plain": [
       "[2, 3, 4, 'new']"
      ]
     },
     "execution_count": 47,
     "metadata": {},
     "output_type": "execute_result"
    }
   ],
   "source": [
    "lst"
   ]
  },
  {
   "cell_type": "code",
   "execution_count": 56,
   "id": "c458dd2d",
   "metadata": {},
   "outputs": [
    {
     "data": {
      "text/plain": [
       "False"
      ]
     },
     "execution_count": 56,
     "metadata": {},
     "output_type": "execute_result"
    }
   ],
   "source": [
    "'x' in [1,2,3] # 'x'라는 string이 [1,2,3]안에 존재하지 않아 False"
   ]
  },
  {
   "cell_type": "code",
   "execution_count": 58,
   "id": "08d76fe2",
   "metadata": {},
   "outputs": [
    {
     "data": {
      "text/plain": [
       "True"
      ]
     },
     "execution_count": 58,
     "metadata": {},
     "output_type": "execute_result"
    }
   ],
   "source": [
    "'x' in ['x','y','z'] # x라는 string이 ['x','y','z']안에 존재하여 True"
   ]
  },
  {
   "cell_type": "code",
   "execution_count": 82,
   "id": "7afd01c2",
   "metadata": {},
   "outputs": [],
   "source": [
    "x = [(1,2), (3,4), (5,6)]"
   ]
  },
  {
   "cell_type": "code",
   "execution_count": 60,
   "id": "24a300b5",
   "metadata": {},
   "outputs": [
    {
     "data": {
      "text/plain": [
       "(1, 2)"
      ]
     },
     "execution_count": 60,
     "metadata": {},
     "output_type": "execute_result"
    }
   ],
   "source": [
    "x[0]"
   ]
  },
  {
   "cell_type": "code",
   "execution_count": 62,
   "id": "d47cff02",
   "metadata": {},
   "outputs": [
    {
     "data": {
      "text/plain": [
       "2"
      ]
     },
     "execution_count": 62,
     "metadata": {},
     "output_type": "execute_result"
    }
   ],
   "source": [
    "x[0][1]"
   ]
  },
  {
   "cell_type": "code",
   "execution_count": 84,
   "id": "69df60e7",
   "metadata": {},
   "outputs": [
    {
     "name": "stdout",
     "output_type": "stream",
     "text": [
      "(1, 2)\n",
      "(3, 4)\n",
      "(5, 6)\n"
     ]
    }
   ],
   "source": [
    "for i in x:\n",
    "    print(i)"
   ]
  },
  {
   "cell_type": "code",
   "execution_count": 144,
   "id": "8919070e",
   "metadata": {},
   "outputs": [
    {
     "name": "stdout",
     "output_type": "stream",
     "text": [
      "2\n",
      "4\n",
      "6\n"
     ]
    }
   ],
   "source": [
    "for (a,b) in x:\n",
    "    print(b)"
   ]
  },
  {
   "cell_type": "code",
   "execution_count": 145,
   "id": "b8494c5d",
   "metadata": {},
   "outputs": [
    {
     "name": "stdout",
     "output_type": "stream",
     "text": [
      "1\n",
      "2\n",
      "3\n",
      "4\n",
      "5\n",
      "6\n"
     ]
    }
   ],
   "source": [
    "# for a, b in x : 와 같이 적어도 똑같다.\n",
    "for (a, b) in x:\n",
    "    print(a)\n",
    "    print(b)"
   ]
  },
  {
   "cell_type": "code",
   "execution_count": 12,
   "id": "d47e8bf5",
   "metadata": {},
   "outputs": [],
   "source": [
    "d = {'k1':[1,2,3,{\"tricky\":['oh','man','inception',{'target':[1,2,3,'hello']}]}]}"
   ]
  },
  {
   "cell_type": "code",
   "execution_count": 13,
   "id": "c326e167",
   "metadata": {},
   "outputs": [
    {
     "data": {
      "text/plain": [
       "'hello'"
      ]
     },
     "execution_count": 13,
     "metadata": {},
     "output_type": "execute_result"
    }
   ],
   "source": [
    "d['k1'][3]['tricky'][3]['target'][3]"
   ]
  },
  {
   "cell_type": "code",
   "execution_count": null,
   "id": "7bf50a0f",
   "metadata": {},
   "outputs": [],
   "source": []
  }
 ],
 "metadata": {
  "kernelspec": {
   "display_name": "Python 3 (ipykernel)",
   "language": "python",
   "name": "python3"
  },
  "language_info": {
   "codemirror_mode": {
    "name": "ipython",
    "version": 3
   },
   "file_extension": ".py",
   "mimetype": "text/x-python",
   "name": "python",
   "nbconvert_exporter": "python",
   "pygments_lexer": "ipython3",
   "version": "3.9.13"
  }
 },
 "nbformat": 4,
 "nbformat_minor": 5
}
